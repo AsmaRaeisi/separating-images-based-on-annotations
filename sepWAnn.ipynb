{
 "cells": [
  {
   "cell_type": "code",
   "execution_count": null,
   "metadata": {},
   "outputs": [],
   "source": [
    "import os\n",
    "import json\n",
    "import shutil\n",
    "\n",
    "# Define the paths\n",
    "annotations_folder = '/media/PhD/armbench/seperate with annottions/annotations'\n",
    "images_folder = '/media/PhD/armbench/seperate with annottions/images/'\n",
    "train_json_file = '/media/PhD/armbench/seperate with annottions/train.json'\n",
    "\n",
    "# Create output directories for train images and annotations\n",
    "output_images_folder = '/media/PhD/armbench/seperate with annottions/train_images'\n",
    "output_annotations_folder = '/media/PhD/armbench/seperate with annottions/train_annotations'\n",
    "os.makedirs(output_images_folder, exist_ok=True)\n",
    "os.makedirs(output_annotations_folder, exist_ok=True)\n",
    "\n",
    "# Load the list of images from train.json\n",
    "with open(train_json_file, 'r') as train_file:\n",
    "    train_data = json.load(train_file)\n",
    "    train_images = train_data['images']\n",
    "\n",
    "# Process each image in the training list\n",
    "for image_entry in train_images:\n",
    "    image_name = image_entry['file_name']\n",
    "    annotation_name = os.path.splitext(image_name)[0] + '.json'\n",
    "\n",
    "    source_image_path = os.path.join(images_folder, image_name)\n",
    "    source_annotation_path = os.path.join(annotations_folder, annotation_name)\n",
    "\n",
    "    output_image_path = os.path.join(output_images_folder, image_name)\n",
    "    output_annotation_path = os.path.join(output_annotations_folder, annotation_name)\n",
    "\n",
    "    # Check if the image and annotation files exist and copy them to the respective output folders\n",
    "    if os.path.exists(source_image_path) and os.path.exists(source_annotation_path):\n",
    "        shutil.copy(source_image_path, output_image_path)\n",
    "        shutil.copy(source_annotation_path, output_annotation_path)\n",
    "\n",
    "print(\"Separation of training images and annotations completed.\")\n"
   ]
  }
 ],
 "metadata": {
  "language_info": {
   "name": "python"
  }
 },
 "nbformat": 4,
 "nbformat_minor": 2
}
